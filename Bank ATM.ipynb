{
 "cells": [
  {
   "cell_type": "code",
   "execution_count": 1,
   "id": "92ef35b8",
   "metadata": {},
   "outputs": [],
   "source": [
    "import sys\n",
    "\n",
    "class ATM():\n",
    "    \n",
    "#     user_pin = 1234\n",
    "    \n",
    "    def __init__(self, name, account_no):\n",
    "        self.name = name\n",
    "        self.account_no = account_no\n",
    "        self.bal = 0\n",
    "        self.pin = 1234\n",
    "        \n",
    "    def details(self):\n",
    "        print(\"******Account Details******\")\n",
    "        print(f'Account Name: {self.name}')\n",
    "        print(f'Account Number: {self.account_no}')\n",
    "        print(f'Balance: N{self.bal}')\n",
    "        \n",
    "    def check_balance(self):\n",
    "        print(f'Your available balance is: N{self.bal}\\n')\n",
    "        \n",
    "    def deposit(self, amount):\n",
    "        self.amount = amount\n",
    "        self.bal = self.bal + self.amount\n",
    "        print(f'Your new balance is: N{self.bal}\\n')\n",
    "        \n",
    "    def withdraw(self, amount):\n",
    "        self.amount = amount\n",
    "        \n",
    "        if self.amount > self.bal:\n",
    "            print(f'Insufficient funds\\n\\\n",
    "            Your balance is N{self.bal} only\\\n",
    "            \\n Enter a new amount')\n",
    "        else:\n",
    "            self.bal = self.bal - self.amount\n",
    "            print(f'Withdrawal of N{amount} successful')\n",
    "            print('Current balance is: ', self.bal)\n",
    "    \n",
    "    def another_trans (self, response):\n",
    "        self.response = response\n",
    "#         print(\"\"\"\n",
    "               \n",
    "#             Press Y to continue or N to exit:\n",
    "#             Y. Continue\n",
    "#             N. Exit\n",
    "        \n",
    "#         \"\"\")\n",
    "        \n",
    "        if self.response == 'Y':\n",
    "            self.menu()\n",
    "        else:\n",
    "            print('Thank you for banking with us.')\n",
    "        \n",
    "        \n",
    "    def menu(self):\n",
    "        \n",
    "        print(\"\"\"\n",
    "               \n",
    "            MENU:\n",
    "            0. Exit\n",
    "            1. Check Balance\n",
    "            2. Deposit\n",
    "            3. Withdraw\n",
    "            4. Account details\n",
    "        \n",
    "        \"\"\")\n",
    "        \n",
    "        while True:\n",
    "            \n",
    "            num = int(input('Enter a number from the menu '))\n",
    "            \n",
    "            if num == 0:\n",
    "                print('Exiting')\n",
    "                break\n",
    "                \n",
    "            elif num in(1,2,3,4):\n",
    "                max_login = 3\n",
    "                \n",
    "                while(max_login != 0):\n",
    "                    pin =int(input('Welcome, Enter your pin '))\n",
    "                    \n",
    "                    if pin == self.pin:\n",
    "                        print(\"Welcome to First bank\")\n",
    "                        \n",
    "                        if num == 1:\n",
    "                            self.check_balance()\n",
    "                            print(\"Transaction Successful. Do you want to perform another transaction?\")\n",
    "                            response = input('Press Y to continue or N to exit: ')\n",
    "                            self.another_trans(response)\n",
    "                            break\n",
    "                        elif num == 2:\n",
    "                            amount = int(input('Enter deposit amount: '))\n",
    "                            self.deposit(amount)\n",
    "                            print(\"Transaction Successful. Do you want to perform another transaction?\")\n",
    "                            response = input('Press Y to continue or N to exit: ')\n",
    "                            self.another_trans(response)\n",
    "                            break\n",
    "                        elif num == 3:\n",
    "                            amount = int(input('Enter withdrawal amount: '))\n",
    "                            self.withdraw(amount)\n",
    "                            print(\"Transaction Successful. Do you want to perform another transaction?\")\n",
    "                            response = input('Press Y to continue or N to exit: ')\n",
    "                            self.another_trans(response)\n",
    "                            break\n",
    "                        elif num == 4:\n",
    "                            self.details()\n",
    "                            print(\"Transaction Successful. Do you want to perform another transaction?\")\n",
    "                            response = input('Press Y to continue or N to exit: ')\n",
    "                            self.another_trans(response)\n",
    "                    \n",
    "                    else:\n",
    "                        max_login -=1\n",
    "                        print(f'Wrong pin, you have {max_login} attempts left\\n')\n",
    "                        \n",
    "                        if max_login == 0:\n",
    "                            print(\"Invalid input!\")\n",
    "                            print(\"\\t\\t0. Enter 0 to Logout and Exit!\")\n",
    "                            False\n",
    "                    \n",
    "            \n",
    "           \n",
    "\n",
    "\n",
    "\n",
    "           "
   ]
  },
  {
   "cell_type": "code",
   "execution_count": 2,
   "id": "0f43257d",
   "metadata": {},
   "outputs": [],
   "source": [
    "c1 = ATM('Uzondu', 3123432)"
   ]
  },
  {
   "cell_type": "code",
   "execution_count": 3,
   "id": "c8e21e1a",
   "metadata": {},
   "outputs": [
    {
     "name": "stdout",
     "output_type": "stream",
     "text": [
      "******Account Details******\n",
      "Account Name: Uzondu\n",
      "Account Number: 3123432\n",
      "Balance: N0\n"
     ]
    }
   ],
   "source": [
    "c1.details()"
   ]
  },
  {
   "cell_type": "code",
   "execution_count": 4,
   "id": "a50c20ed",
   "metadata": {},
   "outputs": [
    {
     "name": "stdout",
     "output_type": "stream",
     "text": [
      "Insufficient funds\n",
      "            Your balance is N0 only            \n",
      " Enter a new amount\n"
     ]
    }
   ],
   "source": [
    "c1.withdraw(10)"
   ]
  },
  {
   "cell_type": "code",
   "execution_count": 5,
   "id": "a88894f7",
   "metadata": {},
   "outputs": [
    {
     "name": "stdout",
     "output_type": "stream",
     "text": [
      "\n",
      "               \n",
      "            MENU:\n",
      "            0. Exit\n",
      "            1. Check Balance\n",
      "            2. Deposit\n",
      "            3. Withdraw\n",
      "            4. Account details\n",
      "        \n",
      "        \n",
      "Enter a number from the menu 2\n",
      "Welcome, Enter your pin 1234\n",
      "Welcome to First bank\n",
      "Enter deposit amount: 1000\n",
      "Your new balance is: N1000\n",
      "\n",
      "Transaction Successful. Do you want to perform another transaction?\n",
      "Press Y to continue or N to exit: N\n",
      "Thank you for banking with us.\n",
      "Enter a number from the menu 0\n",
      "Exiting\n"
     ]
    }
   ],
   "source": [
    "c1.menu()"
   ]
  },
  {
   "cell_type": "markdown",
   "id": "5e8c7c8a",
   "metadata": {},
   "source": [
    "# "
   ]
  }
 ],
 "metadata": {
  "kernelspec": {
   "display_name": "Python 3 (ipykernel)",
   "language": "python",
   "name": "python3"
  },
  "language_info": {
   "codemirror_mode": {
    "name": "ipython",
    "version": 3
   },
   "file_extension": ".py",
   "mimetype": "text/x-python",
   "name": "python",
   "nbconvert_exporter": "python",
   "pygments_lexer": "ipython3",
   "version": "3.9.7"
  }
 },
 "nbformat": 4,
 "nbformat_minor": 5
}
